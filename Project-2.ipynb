{
 "cells": [
  {
   "cell_type": "code",
   "execution_count": 737,
   "id": "8fc74157",
   "metadata": {},
   "outputs": [],
   "source": [
    "import numpy as np\n",
    "import scipy.sparse as sp"
   ]
  },
  {
   "cell_type": "markdown",
   "id": "34ecd314",
   "metadata": {},
   "source": [
    "### Preliminaries\n",
    "\n",
    "We will be using the `load_as_csr`, `num_rows`, and `matvec` functions from homework #1. They are provided below for you to use."
   ]
  },
  {
   "cell_type": "code",
   "execution_count": 738,
   "id": "bf0ebee0",
   "metadata": {},
   "outputs": [],
   "source": [
    "def load_as_csr(filename):\n",
    "    # Read m, n, and nnz from the file\n",
    "    m, n, nnz = np.genfromtxt(filename, max_rows=1, dtype=None)\n",
    "    # Read the data as a list of tuples [(i,j,v), ...]\n",
    "    data = np.genfromtxt(filename, skip_header=1, dtype=None)\n",
    "    # Allocate arrays\n",
    "    I = np.zeros(m + 1, dtype=int)\n",
    "    J = np.zeros(nnz, dtype=int)\n",
    "    V = np.zeros(nnz)\n",
    "    \n",
    "    for k in range(nnz):\n",
    "        i = data[k][0]\n",
    "        I[i+1] += 1\n",
    "        \n",
    "    for i in range(m):\n",
    "        I[i+1] += I[i]\n",
    "    \n",
    "    for k in range(nnz):\n",
    "        i, j, v = data[k]\n",
    "        idx = I[i]\n",
    "        I[i] += 1\n",
    "        J[idx] = j\n",
    "        V[idx] = v\n",
    "    \n",
    "    for i in reversed(range(m)):\n",
    "        I[i+1] = I[i]\n",
    "        \n",
    "    I[0] = 0\n",
    "    \n",
    "    return I, J, V\n",
    "\n",
    "def num_rows(A):\n",
    "    return len(A[0]) - 1\n",
    "\n",
    "def matvec(A, v):\n",
    "    I, J, V = A\n",
    "    m = num_rows(A)\n",
    "    w = np.zeros(m)\n",
    "    \n",
    "    for i in range(m):\n",
    "        begin = I[i]\n",
    "        end = I[i+1]\n",
    "        for idx in range(begin, end):\n",
    "            j = J[idx]\n",
    "            w[i] += V[idx]*v[j]\n",
    "    \n",
    "    return w"
   ]
  },
  {
   "cell_type": "markdown",
   "id": "183bc30a",
   "metadata": {},
   "source": [
    "### 1. Sparse triangular solves (5 points)\n",
    "\n",
    "Write functions `tril_solve` and `triu_solve` that take a matrix $A$ in CSR format (as a tuple of three arrays, the output of `load_as_csr`) and a right-hand side vector $b$, and returns the solution to $L x = b$ and $U x = b$, where $L$ and $U$ are the lower and upper triangular parts of $A$, respectively."
   ]
  },
  {
   "cell_type": "code",
   "execution_count": 739,
   "id": "8679afd5",
   "metadata": {},
   "outputs": [],
   "source": [
    "def tril_solve(A, b):\n",
    "    I, J, V = A\n",
    "    x = np.zeros(len(b))\n",
    "    \n",
    "    # Perform lower-triangular solve (forward substitution)\n",
    "    for i in range(len(b)):\n",
    "        sum_val = 0.0\n",
    "        diag_val = 1\n",
    "        for idx in range(I[i], I[i+1]):\n",
    "            j = J[idx]\n",
    "            if j < i:\n",
    "                sum_val += V[idx] * x[j]\n",
    "            elif j == i:\n",
    "                diag_val = V[idx]\n",
    "        x[i] = (b[i] - sum_val) / diag_val\n",
    "    return x\n",
    "\n",
    "def triu_solve(A, b):\n",
    "    I, J, V = A\n",
    "    x = np.zeros(len(b))\n",
    "    \n",
    "    # Perform upper-triangular solve (backward substitution)\n",
    "    for i in reversed(range(len(b))):\n",
    "        sum_val = 0.0\n",
    "        diag_val = 1\n",
    "        for idx in range (I[i], I[i+1]):\n",
    "            j = J[idx]\n",
    "            if j > i:\n",
    "                sum_val += V[idx] * x[j]\n",
    "            elif j == i:\n",
    "                diag_val = V[idx]\n",
    "        x[i] = (b[i] - sum_val) / diag_val\n",
    "    return x"
   ]
  },
  {
   "cell_type": "markdown",
   "id": "6e3e1bc1",
   "metadata": {},
   "source": [
    "The code below can be used to check your results."
   ]
  },
  {
   "cell_type": "code",
   "execution_count": 740,
   "id": "3454aa54",
   "metadata": {},
   "outputs": [
    {
     "name": "stdout",
     "output_type": "stream",
     "text": [
      "tril_solve OK\n",
      "triu_solve OK\n",
      "tril_solve OK\n",
      "triu_solve OK\n",
      "tril_solve OK\n",
      "triu_solve OK\n",
      "tril_solve OK\n",
      "triu_solve OK\n"
     ]
    }
   ],
   "source": [
    "def to_scipy(A):\n",
    "    return sp.csr_matrix((A[2], A[1], A[0]))\n",
    "\n",
    "def triu_solve_scipy(A, b):\n",
    "    return sp.linalg.spsolve(sp.triu(to_scipy(A), format=\"csr\"), b)\n",
    "\n",
    "def tril_solve_scipy(A, b):\n",
    "    return sp.linalg.spsolve(sp.tril(to_scipy(A), format=\"csr\"), b)\n",
    "\n",
    "for filename in [\"16.txt\", \"25.txt\", \"50.txt\", \"64.txt\"]:\n",
    "    A = load_as_csr(filename)\n",
    "    n = num_rows(A)\n",
    "    b = np.random.default_rng(0).random(n)\n",
    "    x_l_1 = tril_solve(A, b)\n",
    "    x_l_2 = tril_solve_scipy(A, b)\n",
    "\n",
    "    if np.linalg.norm(x_l_1 - x_l_2) < 1e-10:\n",
    "        print(\"tril_solve OK\")\n",
    "    else:\n",
    "        print(\"tril_solve incorrect\")\n",
    "\n",
    "    x_u_1 = triu_solve(A, b)\n",
    "    x_u_2 = triu_solve_scipy(A, b)\n",
    "\n",
    "    if np.linalg.norm(x_u_1 - x_u_2) < 1e-10:\n",
    "        print(\"triu_solve OK\")\n",
    "    else:\n",
    "        print(\"triu_solve incorrect\")"
   ]
  },
  {
   "cell_type": "markdown",
   "id": "b83635b0",
   "metadata": {},
   "source": [
    "### 1b. (2 points)\n",
    "\n",
    "What is the computational complexity of the above functions (in terms of the size of the matrix and the number of nonzeros)? Justify your answer."
   ]
  },
  {
   "cell_type": "markdown",
   "id": "ff6a95fa",
   "metadata": {},
   "source": [
    "### 2. Gauss-Seidel method (5 points)\n",
    "\n",
    "Write a function `gauss_seidel` that takes a CSR matrix $A$, right-hand side $b$, and implements the Gauss-Seidel method. The string parameter `uplo` will determine if the lower or upper part of the matrix will be used: a value of `\"L\"` indicates the lower triangular part, and `\"U\"` indicates the upper triangular part. Use the functions `matvec`, `tril_solve`, and `triu_solve` from above.\n",
    "\n",
    "Perform a maximum of 1000 iterations, and terminate when the norm of the residual (computed using `np.linalg.norm`) is below `1e-5`.\n",
    "\n",
    "When the method converges, return the solution, and print the message `\"Converged after {i} iterations\"`, where `{i}` denotes the number of iterations.\n",
    "\n",
    "Use the code below to run Gauss-Seidel and output the number of iterations."
   ]
  },
  {
   "cell_type": "code",
   "execution_count": 741,
   "id": "8b405151",
   "metadata": {},
   "outputs": [],
   "source": [
    "# 1b. What is the computational complexity of the above functions (in terms of the size of the matrix and the number of nonzeros)?\n",
    "# The trill_solve function solves the equations of the matrix where all elements above the diagonal are zero(0). The triu_solve function \n",
    "# solves equations of the matricies where all elements below the main diagonal are zero(0). So the work in opposite ways, yet they both check through the \n",
    "# non-zero pieces to find the value of a certain component in that row. The matrix(cies) here are 'nnz', and because each non-zero piece is looked at once,\n",
    "# and iteration also occurs within the indicies I[i] and I[i+1], also looking at the i-th row, the complexity here is O(nnz) for trill_solve and triu_solve functions.\n",
    "# For the load_as_csr function, the complexity would be O(nnz + m) as both m (number of rows) and nnz (number of non-zero entries) work in different parts of the function \n",
    "# (allocating arrays, filling them up, etc.). The matvec function would have a complexity of O(nnz) as the operation depends on the entries of non-zero which\n",
    "# move accross each row once, making this the complexity.\n",
    "\n",
    "\n",
    "def gauss_seidel(A, b, uplo=\"L\"):\n",
    "    I, J, V = A\n",
    "    x = np.zeros(len(b))  # Initialize solution vector with zeros\n",
    "    max_iter = 1000       # Maximum iterations\n",
    "    acc = 1e-5            # Norm of the residual\n",
    "\n",
    "    \n",
    "    # Perform Gauss-Seidel iteration  \n",
    "    for iter_count in range(max_iter):\n",
    "        x_old = x.copy()\n",
    "        \n",
    "        for i in range(len(b)):  # Iterates over the rows of the matrix\n",
    "            sum_ax = 0  # This will store the sum of A*x for the i-th row\n",
    "\n",
    "            # Calculate the sum of the row, without diagonal\n",
    "            for j in range(I[i], I[i + 1]):\n",
    "                if J[j] != i:\n",
    "                    sum_ax += V[j] * x[J[j]]\n",
    "\n",
    "            # Find the diagonal coefficient\n",
    "            diag_idx = np.where(J[I[i]:I[i + 1]] == i)[0]\n",
    "            if len(diag_idx) > 0:\n",
    "                diag_idx += I[i]  # Correcting the index offset(mistake)\n",
    "                diag_val = V[diag_idx[0]]\n",
    "            else:\n",
    "                continue  # Skip if no diagonal element\n",
    "\n",
    "            # Update x[i] based on whether we are using L or U\n",
    "            if uplo == \"L\" and J[diag_idx[0]] <= i:\n",
    "                x[i] = (b[i] - sum_ax) / diag_val\n",
    "            elif uplo == \"U\" and J[diag_idx[0]] >= i:\n",
    "                x[i] = (b[i] - sum_ax) / diag_val\n",
    "\n",
    "        # Check for convergence\n",
    "        if np.linalg.norm(x - x_old) < acc:\n",
    "            print(f\"Converged after {iter_count + 1} iterations\")\n",
    "            return x\n",
    "\n",
    "    print(\"Did not converge within the maximum number of iterations\")\n",
    "    return x"
   ]
  },
  {
   "cell_type": "code",
   "execution_count": 742,
   "id": "ddf37091",
   "metadata": {},
   "outputs": [
    {
     "name": "stdout",
     "output_type": "stream",
     "text": [
      "Converged after 136 iterations\n",
      "Converged after 71 iterations\n",
      "Converged after 115 iterations\n",
      "Converged after 96 iterations\n"
     ]
    }
   ],
   "source": [
    "for filename in [\"16.txt\", \"25.txt\", \"50.txt\", \"64.txt\"]:\n",
    "    A = load_as_csr(filename)\n",
    "    b = np.random.default_rng(0).random(num_rows(A))\n",
    "    gauss_seidel(A, b)"
   ]
  },
  {
   "cell_type": "markdown",
   "id": "b620992a",
   "metadata": {},
   "source": [
    "### 3. Modify the matrices and check convergence (5 points)"
   ]
  },
  {
   "cell_type": "markdown",
   "id": "29f3a7a6",
   "metadata": {},
   "source": [
    "Write a function `add_to_diagonal` that takes a CSR matrix $A$ (the output of `load_as_csr`), and returns a **new** matrix, that has the value `alpha` added to the diagonal entries, i.e. $A + \\alpha I$.\n",
    "\n",
    "Re-run the tests above for matrices $A + \\alpha I$, with $\\alpha \\in \\{0, 1, 2, 4, 8\\}$. Output iteration counts for each test matrix, and for each value of $\\alpha$.\n",
    "\n",
    "What happens for larger $\\alpha$? Can you explain this in terms of the eigenvalues of the matrix?"
   ]
  },
  {
   "cell_type": "code",
   "execution_count": 743,
   "id": "0f4575c4",
   "metadata": {},
   "outputs": [],
   "source": [
    "def add_to_diagonal(A, alpha):\n",
    "    I, J, V1 = A\n",
    "    V2 = np.copy(V1)\n",
    "    n = num_rows(A)\n",
    "\n",
    "    # Add alpha to the diagonal entries\n",
    "    for i in range(len(I) - 1):\n",
    "        for idx in range(I[i], I[i+1]):\n",
    "            if J[idx] == i:  # Only if entry it is on now is on the diagonal\n",
    "                V2[idx] += alpha\n",
    "    \n",
    "    return I, J, V2"
   ]
  },
  {
   "cell_type": "code",
   "execution_count": 744,
   "id": "c82f61e0",
   "metadata": {},
   "outputs": [
    {
     "name": "stdout",
     "output_type": "stream",
     "text": [
      "For matrix 16.txt with alpha = 0:\n",
      "Converged after 136 iterations\n",
      "For matrix 16.txt with alpha = 1:\n",
      "Converged after 80 iterations\n",
      "For matrix 16.txt with alpha = 2:\n",
      "Converged after 57 iterations\n",
      "For matrix 16.txt with alpha = 4:\n",
      "Converged after 38 iterations\n",
      "For matrix 16.txt with alpha = 8:\n",
      "Converged after 23 iterations\n",
      "For matrix 25.txt with alpha = 0:\n",
      "Converged after 71 iterations\n",
      "For matrix 25.txt with alpha = 1:\n",
      "Converged after 6 iterations\n",
      "For matrix 25.txt with alpha = 2:\n",
      "Converged after 5 iterations\n",
      "For matrix 25.txt with alpha = 4:\n",
      "Converged after 4 iterations\n",
      "For matrix 25.txt with alpha = 8:\n",
      "Converged after 4 iterations\n",
      "For matrix 50.txt with alpha = 0:\n",
      "Converged after 115 iterations\n",
      "For matrix 50.txt with alpha = 1:\n",
      "Converged after 6 iterations\n",
      "For matrix 50.txt with alpha = 2:\n",
      "Converged after 5 iterations\n",
      "For matrix 50.txt with alpha = 4:\n",
      "Converged after 5 iterations\n",
      "For matrix 50.txt with alpha = 8:\n",
      "Converged after 4 iterations\n",
      "For matrix 64.txt with alpha = 0:\n",
      "Converged after 96 iterations\n",
      "For matrix 64.txt with alpha = 1:\n",
      "Converged after 28 iterations\n",
      "For matrix 64.txt with alpha = 2:\n",
      "Converged after 18 iterations\n",
      "For matrix 64.txt with alpha = 4:\n",
      "Converged after 12 iterations\n",
      "For matrix 64.txt with alpha = 8:\n",
      "Converged after 8 iterations\n"
     ]
    }
   ],
   "source": [
    "# Re-run the tests above for alpha in [0, 1, 2, 4, 8]\n",
    "alphas = [0, 1, 2, 4, 8]\n",
    "\n",
    "for filename in [\"16.txt\", \"25.txt\", \"50.txt\", \"64.txt\"]:\n",
    "    A_original = load_as_csr(filename)\n",
    "    \n",
    "    for alpha in alphas:\n",
    "        A = add_to_diagonal(A_original, alpha)\n",
    "        b = np.random.default_rng(0).random(num_rows(A))\n",
    "        print(f\"For matrix {filename} with alpha = {alpha}:\")\n",
    "        gauss_seidel(A, b)      \n",
    "\n",
    "#What happens for larger 𝛼? Can you explain this in terms of the eigenvalues of the matrix?\n",
    "# As the value of the alpha becomes larger, so does the entries for the diagonal matrix. This causes a slower convergence for the eigenvalues. \n",
    "# For gauss-seidel, the eigenvalues in the coefficient matrix and iteration matrix both work hand-in-hand. So when eigenvalues of changed matrix increase,\n",
    "# due to a larger alpha, this can also lead to divergence. A slower convergence and divergence both have chances of occurring in this case."
   ]
  }
 ],
 "metadata": {
  "kernelspec": {
   "display_name": "Python 3 (ipykernel)",
   "language": "python",
   "name": "python3"
  },
  "language_info": {
   "codemirror_mode": {
    "name": "ipython",
    "version": 3
   },
   "file_extension": ".py",
   "mimetype": "text/x-python",
   "name": "python",
   "nbconvert_exporter": "python",
   "pygments_lexer": "ipython3",
   "version": "3.8.10"
  }
 },
 "nbformat": 4,
 "nbformat_minor": 5
}
